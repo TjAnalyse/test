{
 "cells": [
  {
   "cell_type": "code",
   "execution_count": 2,
   "id": "d94fa5b8-17fa-4126-afae-50e956e7273b",
   "metadata": {
    "tags": []
   },
   "outputs": [
    {
     "name": "stdout",
     "output_type": "stream",
     "text": [
      "WOW\n",
      "My name is Tijesu\n",
      "And, i like Oreoluwa\n",
      "She is a nice girl actually\n"
     ]
    }
   ],
   "source": [
    "user_name = ('''WOW\n",
    "My name is Tijesu\n",
    "And, i like Oreoluwa\n",
    "She is a nice girl actually''')\n",
    "print(user_name)"
   ]
  },
  {
   "cell_type": "code",
   "execution_count": 7,
   "id": "be5e296d-377f-48d1-bfe7-5ad0c94381b1",
   "metadata": {
    "tags": []
   },
   "outputs": [
    {
     "name": "stdout",
     "output_type": "stream",
     "text": [
      "Tijesu Onademuren\n"
     ]
    }
   ],
   "source": [
    "first_name = (\"Tijesu \")\n",
    "last_name = (\"Onademuren\")\n",
    "full_name = first_name + last_name\n",
    "print(full_name)"
   ]
  },
  {
   "cell_type": "markdown",
   "id": "ac6deecb-2f7f-4e6f-8bf9-c0f97cb458e8",
   "metadata": {},
   "source": [
    "for the space i between, it ca also be like this."
   ]
  },
  {
   "cell_type": "code",
   "execution_count": 8,
   "id": "d25da15e-74d9-44aa-99fe-efbbe813419a",
   "metadata": {
    "tags": []
   },
   "outputs": [
    {
     "name": "stdout",
     "output_type": "stream",
     "text": [
      "Tijesu Onademuren\n"
     ]
    }
   ],
   "source": [
    "first_name = (\"Tijesu\")\n",
    "last_name = (\"Onademuren\")\n",
    "full_name = first_name + \" \" + last_name\n",
    "print(full_name)"
   ]
  },
  {
   "cell_type": "code",
   "execution_count": 10,
   "id": "34a11141-90e7-4239-9b44-366d593023db",
   "metadata": {
    "tags": []
   },
   "outputs": [
    {
     "name": "stdout",
     "output_type": "stream",
     "text": [
      "<class 'int'>\n"
     ]
    }
   ],
   "source": [
    "a = str(444)\n",
    "b = int(a)\n",
    "c = type(b)\n",
    "print(c)"
   ]
  },
  {
   "cell_type": "code",
   "execution_count": null,
   "id": "fa8829ec-beb7-480e-ae85-65518fe27095",
   "metadata": {},
   "outputs": [],
   "source": []
  }
 ],
 "metadata": {
  "kernelspec": {
   "display_name": "Python 3 (ipykernel)",
   "language": "python",
   "name": "python3"
  },
  "language_info": {
   "codemirror_mode": {
    "name": "ipython",
    "version": 3
   },
   "file_extension": ".py",
   "mimetype": "text/x-python",
   "name": "python",
   "nbconvert_exporter": "python",
   "pygments_lexer": "ipython3",
   "version": "3.11.5"
  }
 },
 "nbformat": 4,
 "nbformat_minor": 5
}
